{
 "cells": [
  {
   "cell_type": "code",
   "execution_count": 62,
   "id": "3550445e",
   "metadata": {},
   "outputs": [],
   "source": [
    "import numpy as np\n",
    "import pandas as pd\n",
    "\n",
    "import matplotlib.pyplot as plt\n",
    "%matplotlib inline\n",
    "import seaborn as sns\n",
    "sns.set\n",
    "\n",
    "from sklearn.preprocessing import StandardScaler\n",
    "from sklearn.model_selection import train_test_split\n",
    "\n",
    "import warnings\n",
    "warnings.filterwarnings('ignore')"
   ]
  },
  {
   "cell_type": "code",
   "execution_count": 4,
   "id": "ce7e9fcd",
   "metadata": {},
   "outputs": [],
   "source": [
    "rand_state = 1000"
   ]
  },
  {
   "cell_type": "code",
   "execution_count": 16,
   "id": "b39fbecf",
   "metadata": {},
   "outputs": [],
   "source": [
    "dataset = pd.read_csv('dataset.csv')"
   ]
  },
  {
   "cell_type": "code",
   "execution_count": 185,
   "id": "9c621fa6",
   "metadata": {},
   "outputs": [
    {
     "name": "stdout",
     "output_type": "stream",
     "text": [
      "RMSE:  0.22921209874708237         R_sq:  0.9222964046156052\n"
     ]
    }
   ],
   "source": [
    "dataset = dataset.sample(frac = 1)\n",
    "\n",
    "\n",
    "scale = StandardScaler()\n",
    "scaled_data = scale.fit_transform(dataset)\n",
    "scaled_data = pd.DataFrame(scaled_data, columns=dataset.columns)\n",
    "\n",
    "y = scaled_data.Yield\n",
    "X = scaled_data.drop('Yield', axis=1)\n",
    "\n",
    "X_train, X_test, y_train, y_test = train_test_split(X, y, test_size=0.3, random_state = rand_state)\n",
    "\n",
    "from sklearn.svm import SVR\n",
    "\n",
    "svm_reg = SVR(C = 1)\n",
    "svm_reg.fit(X_train, y_train)\n",
    "\n",
    "y_predict = svm_reg.predict(X_test)\n",
    "\n",
    "import math\n",
    "\n",
    "MSE = np.square(np.subtract(y_test, y_predict)).mean()\n",
    "RMSE = math.sqrt(MSE)\n",
    "\n",
    "\n",
    "corr_matrix = np.corrcoef(y_test, y_predict)\n",
    "corr = corr_matrix[0, 1]\n",
    "R_sq = corr**2\n",
    "\n",
    "print('RMSE: ', RMSE, '       ', 'R_sq: ', R_sq)"
   ]
  },
  {
   "cell_type": "code",
   "execution_count": 178,
   "id": "57ca6de6",
   "metadata": {},
   "outputs": [
    {
     "data": {
      "text/plain": [
       "0.9149061895705866"
      ]
     },
     "execution_count": 178,
     "metadata": {},
     "output_type": "execute_result"
    }
   ],
   "source": [
    "svm_reg.score(X_test, y_test)"
   ]
  }
 ],
 "metadata": {
  "kernelspec": {
   "display_name": "Python 3 (ipykernel)",
   "language": "python",
   "name": "python3"
  },
  "language_info": {
   "codemirror_mode": {
    "name": "ipython",
    "version": 3
   },
   "file_extension": ".py",
   "mimetype": "text/x-python",
   "name": "python",
   "nbconvert_exporter": "python",
   "pygments_lexer": "ipython3",
   "version": "3.9.7"
  }
 },
 "nbformat": 4,
 "nbformat_minor": 5
}
